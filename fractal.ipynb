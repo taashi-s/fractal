{
 "cells": [
  {
   "cell_type": "code",
   "execution_count": null,
   "metadata": {},
   "outputs": [],
   "source": [
    "import os\n",
    "import cv2\n",
    "import numpy as np\n",
    "from math import sin,cos,radians, sqrt\n",
    "\n",
    "from jupyter_utils import ImageLinePlotter"
   ]
  },
  {
   "cell_type": "markdown",
   "metadata": {},
   "source": [
    "## ◆ 問1\n",
    "### 直線を３等分して、真ん中の１本を消す操作を繰り返すフラクタル図形を描画せよ\n",
    "\n",
    "下のセルの `# ここを記述`　部分にロジックを記述して完成させよう。\n",
    "\n",
    "<道具>\n",
    "- 線の描画\n",
    "\n",
    "`img = cv2.line(img, (x1, IMAGE_H//2), (x2, IMAGE_H//2), 255, thickness=1)`\n",
    "\n",
    "    - この1行の処理で、`x1`から`x2`までの直線が引ける。\n",
    "    - `IMAGE_H//2`は、 画像の中心に描画するための縦の指定を行っている。\n",
    "    - 線を太くしたければ、`thickness`の値を大きくする。\n",
    "\n",
    "\n",
    "<ヒント>\n",
    "- リカーシブを使うとよい。\n",
    "- その場合、描画の処理は、一箇所でよい。\n",
    "- 書いて消すというよりは、書くべき線を特定して書く。\n",
    "- どんどん増えていく線ではなく、その1つに着目するとよい。\n",
    "- 線の数は、2^nで増えていく。\n"
   ]
  },
  {
   "cell_type": "code",
   "execution_count": null,
   "metadata": {},
   "outputs": [],
   "source": [
    "IMAGE_Q1_H = 100\n",
    "IMAGE_Q1_W = 1000\n",
    "MARGIN_Q1 = 10\n",
    "\n",
    "###　問１描画関数\n",
    "## <pram>\n",
    "##     img : 描画先画像\n",
    "##     generation : 描画する世代\n",
    "##     x1 : 描画する線分の左端の点(x座標)\n",
    "##     x2 : 描画する線分の右端の点(x座標)\n",
    "def draw_q1(img, generation, x1, x2):\n",
    "    # ここを記述\n",
    "    \n",
    "    return img\n",
    "\n",
    "\n",
    "## 画像の作成\n",
    "img_q1 = np.zeros((IMAGE_Q1_H, IMAGE_Q1_W), dtype=np.uint8)\n",
    "\n",
    "## 描画：第二引数の数字を変更することで描画される世代が変わる。　\n",
    "img_q1 = draw_q1(img_q1, 5, MARGIN_Q1, IMAGE_Q1_W - MARGIN_Q1)\n",
    "\n",
    "## 表示\n",
    "plter = ImageLinePlotter(0, plot_area_num=1, display_size=15)\n",
    "plter.add_image(img_q1)\n",
    "plter.show_plot()"
   ]
  },
  {
   "cell_type": "markdown",
   "metadata": {},
   "source": [
    "### ● 問1 補足確認 (世代での変化)\n",
    "各世代でどの様に変化していくかの確認をしてみよう\n",
    "\n",
    "このnotebookファイルを置いているディレクトリに、`debug`というディレクトリを追加しておけば、そこにも出力されます。"
   ]
  },
  {
   "cell_type": "code",
   "execution_count": null,
   "metadata": {
    "scrolled": true
   },
   "outputs": [],
   "source": [
    "for gen in range(10):\n",
    "    img_q1 = np.zeros((IMAGE_Q1_H, IMAGE_Q1_W), dtype=np.uint8)\n",
    "    img_q1 = draw_q1(img_q1, gen, MARGIN_Q1, IMAGE_Q1_W - MARGIN_Q1)\n",
    "\n",
    "    plter = ImageLinePlotter(0, plot_area_num=1, display_size=15)\n",
    "    plter.add_image(img_q1, title='[q1] gen = %02d' % gen)\n",
    "    plter.show_plot()\n",
    "    cv2.imwrite(os.path.join('debug', 'Q1_gen_%02d.png' % gen), img_q1)"
   ]
  },
  {
   "cell_type": "markdown",
   "metadata": {},
   "source": [
    "### ● 問1 補足確認 (収束の確認)\n",
    "画像に書くという性質上、整数範囲しか取れず収束が早い。\n",
    "どれくらいで収束してしまうか、すなわち、どれくらいで、3分の１にすることができなくなるか確認しよう。"
   ]
  },
  {
   "cell_type": "code",
   "execution_count": null,
   "metadata": {
    "scrolled": false
   },
   "outputs": [],
   "source": [
    "n = 1000\n",
    "i = 0\n",
    "while(True):\n",
    "    ns = int(n / 3)\n",
    "    print('[%03d] : ' % i, ns)\n",
    "    if ns <= 0:\n",
    "        break\n",
    "    n = ns\n",
    "    i += 1"
   ]
  },
  {
   "cell_type": "code",
   "execution_count": null,
   "metadata": {},
   "outputs": [],
   "source": []
  },
  {
   "cell_type": "markdown",
   "metadata": {},
   "source": [
    "## ◆ 問2\n",
    "### 直線を３等分して、その1本の長さを持つ正三角形を真ん中に生やす操作を繰り返すフラクタル図形を描画せよ\n",
    "\n",
    "下のセルの `# ここを記述`　部分にロジックを記述して完成させよう。\n",
    "\n",
    "　<道具>\n",
    " - 三角関数\n",
    "   - 60度のsin, cos\n",
    "   \n",
    "     `sin(radians(60))`\n",
    "     \n",
    "     `cos(radians(60))`\n",
    " \n",
    "\n",
    "<ヒント>\n",
    "- 問1の進化版と捉えると良い。\n",
    "- 正三角形の１つの角は、60度\n"
   ]
  },
  {
   "cell_type": "code",
   "execution_count": null,
   "metadata": {
    "scrolled": true
   },
   "outputs": [],
   "source": [
    "IMAGE_Q2_H = 1000\n",
    "IMAGE_Q2_W = 1000\n",
    "MARGIN_Q2 = 10\n",
    "\n",
    "###　問2描画関数\n",
    "## <pram>\n",
    "##     img : 描画先画像\n",
    "##     generation : 描画する世代\n",
    "##     p1 : 描画する線分の左端の点(x座標, y座標)\n",
    "##     p2 : 描画する線分の右端の点(x座標, y座標)\n",
    "def draw_q2(img, generation, p1, p2):\n",
    "    # ここを記述\n",
    "    \n",
    "    return img\n",
    "\n",
    "\n",
    "## 画像の作成\n",
    "img_q2 = np.zeros((IMAGE_Q2_H, IMAGE_Q2_W), dtype=np.uint8)\n",
    "\n",
    "## 描画：第二引数の数字を変更することで描画される世代が変わる。　\n",
    "img_q2 = draw_q2(img_q2, 0, (MARGIN_Q2, IMAGE_Q2_H // 2), (IMAGE_Q2_W - MARGIN_Q2, IMAGE_Q2_H // 2))\n",
    "\n",
    "## 表示\n",
    "plter = ImageLinePlotter(0, plot_area_num=1, display_size=15)\n",
    "plter.add_image(img_q2)\n",
    "plter.show_plot()"
   ]
  },
  {
   "cell_type": "markdown",
   "metadata": {},
   "source": [
    "### ● 問2 補足確認 (世代での変化)\n",
    "各世代でどの様に変化していくかの確認をしてみよう\n",
    "\n",
    "このnotebookファイルを置いているディレクトリに、`debug`というディレクトリを追加しておけば、そこにも出力されます。\n",
    "\n",
    "注)genを大きくすると生成に非常に時間がかかります。12, 3あたりでかなり時間かかるようになるので。。。"
   ]
  },
  {
   "cell_type": "code",
   "execution_count": null,
   "metadata": {
    "scrolled": true
   },
   "outputs": [],
   "source": [
    "for gen in range(10):\n",
    "    img_q2 = np.zeros((IMAGE_Q2_H, IMAGE_Q2_W), dtype=np.uint8)\n",
    "    img_q2 = draw_q2(img_q2, gen, (MARGIN_Q2, IMAGE_Q2_H // 2), (IMAGE_Q2_W - MARGIN_Q2, IMAGE_Q2_H // 2))\n",
    "\n",
    "    plter = ImageLinePlotter(0, plot_area_num=1, display_size=15)\n",
    "    plter.add_image(img_q2, title='[q2] gen = %02d' % gen)\n",
    "    plter.show_plot()\n",
    "    cv2.imwrite(os.path.join('debug', 'Q2_gen_%02d.png' % gen), img_q2)"
   ]
  },
  {
   "cell_type": "code",
   "execution_count": null,
   "metadata": {},
   "outputs": [],
   "source": []
  },
  {
   "cell_type": "markdown",
   "metadata": {},
   "source": [
    "## ◆ 問3\n",
    "### 問2のフラクタル図形を、スタートを正三角形にして描いてみよう。\n"
   ]
  },
  {
   "cell_type": "code",
   "execution_count": null,
   "metadata": {
    "scrolled": true
   },
   "outputs": [],
   "source": [
    "IMAGE_Q3_H = 1000\n",
    "IMAGE_Q3_W = 1000\n",
    "\n",
    "###　問3描画関数\n",
    "## <pram>\n",
    "##     img : 描画先画像\n",
    "##     generation : 描画する世代\n",
    "##     cp : 描画する正三角形の中心点(x座標, y座標)\n",
    "##     size : 描画する正三角形の大きさ\n",
    "def draw_q3(img, generation, cp, size):\n",
    "    p1 = (cp[0], cp[1] + size)\n",
    "    p2 = (int(cp[0] - (3 * size) / (2 * sqrt(3))), int(cp[1] - size / 2))\n",
    "    p3 = (int(cp[0] + (3 * size) / (2 * sqrt(3))), int(cp[1] - size / 2))\n",
    "    draw_q2(img, generation, p1, p2)\n",
    "    draw_q2(img, generation, p2, p3)\n",
    "    draw_q2(img, generation, p3, p1)\n",
    "    return img\n",
    "    \n",
    "\n",
    "## 画像の作成\n",
    "img_q3 = np.zeros((IMAGE_Q3_H, IMAGE_Q3_W), dtype=np.uint8)\n",
    "\n",
    "## 描画：第二引数の数字を変更することで描画される世代が変わる。　\n",
    "img_q3 = draw_q3(img_q3, 3, (IMAGE_Q3_W // 2, IMAGE_Q3_H // 2), 450)\n",
    "\n",
    "## 表示\n",
    "plter = ImageLinePlotter(0, plot_area_num=1, display_size=15)\n",
    "plter.add_image(img_q3)\n",
    "plter.show_plot()"
   ]
  },
  {
   "cell_type": "markdown",
   "metadata": {},
   "source": [
    "### ● 問3 補足確認 (世代での変化)\n",
    "各世代でどの様に変化していくかの確認をしてみよう\n",
    "\n",
    "このnotebookファイルを置いているディレクトリに、`debug`というディレクトリを追加しておけば、そこにも出力されます。\n",
    "\n",
    "注)genを大きくすると生成に非常に時間がかかります。12, 3あたりでかなり時間かかるようになるので。。。"
   ]
  },
  {
   "cell_type": "code",
   "execution_count": null,
   "metadata": {
    "scrolled": true
   },
   "outputs": [],
   "source": [
    "for gen in range(10):\n",
    "    img_q3 = np.zeros((IMAGE_Q3_H, IMAGE_Q3_W), dtype=np.uint8)\n",
    "    img_q3 = draw_q3(img_q3, gen, (IMAGE_Q3_W // 2, IMAGE_Q3_H // 2), 450)\n",
    "\n",
    "    plter = ImageLinePlotter(0, plot_area_num=1, display_size=15)\n",
    "    plter.add_image(img_q3, title='[q2] gen = %02d' % gen)\n",
    "    plter.show_plot()\n",
    "    cv2.imwrite(os.path.join('debug', 'Q3_gen_%02d.png' % gen), img_q3)"
   ]
  },
  {
   "cell_type": "code",
   "execution_count": null,
   "metadata": {},
   "outputs": [],
   "source": []
  },
  {
   "cell_type": "code",
   "execution_count": null,
   "metadata": {},
   "outputs": [],
   "source": []
  }
 ],
 "metadata": {
  "kernelspec": {
   "display_name": "Python 3.6.6 64-bit ('.env': virtualenv)",
   "language": "python",
   "name": "python36664bitenvvirtualenv41b1f1d503a34e739dbd2cdba7d420ff"
  },
  "language_info": {
   "codemirror_mode": {
    "name": "ipython",
    "version": 3
   },
   "file_extension": ".py",
   "mimetype": "text/x-python",
   "name": "python",
   "nbconvert_exporter": "python",
   "pygments_lexer": "ipython3",
   "version": "3.6.6"
  }
 },
 "nbformat": 4,
 "nbformat_minor": 2
}
